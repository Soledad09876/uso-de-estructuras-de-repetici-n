{
  "nbformat": 4,
  "nbformat_minor": 0,
  "metadata": {
    "colab": {
      "provenance": [],
      "authorship_tag": "ABX9TyO82AixBAJjhkNhzd35jqUo",
      "include_colab_link": true
    },
    "kernelspec": {
      "name": "python3",
      "display_name": "Python 3"
    },
    "language_info": {
      "name": "python"
    }
  },
  "cells": [
    {
      "cell_type": "markdown",
      "metadata": {
        "id": "view-in-github",
        "colab_type": "text"
      },
      "source": [
        "<a href=\"https://colab.research.google.com/github/Soledad09876/uso-de-estructuras-de-repetici-n/blob/main/estructuras_de_repetici%C3%B3n_.ipynb\" target=\"_parent\"><img src=\"https://colab.research.google.com/assets/colab-badge.svg\" alt=\"Open In Colab\"/></a>"
      ]
    },
    {
      "cell_type": "code",
      "execution_count": null,
      "metadata": {
        "id": "RU0iRcKUqbAu"
      },
      "outputs": [],
      "source": [
        "##Escribe un programa que solicite dos números enteros e imprima todos los números enteros entre ellos."
      ]
    },
    {
      "cell_type": "code",
      "source": [
        "contador = 1\n",
        "numero_1 = int(input('Digita un numero: '))\n",
        "numero_2 = int(input('Digita otro numero: '))\n",
        "print(f'Los numeros entre {numero_1} y {numero_2} son: ')\n",
        "for numero in range(numero_1 +1, numero_2):\n",
        "  print(numero)\n",
        "  contador + 1"
      ],
      "metadata": {
        "colab": {
          "base_uri": "https://localhost:8080/"
        },
        "id": "xNljBAyhNl4d",
        "outputId": "822aaaa5-44f7-40e4-856e-61120026b483"
      },
      "execution_count": 16,
      "outputs": [
        {
          "output_type": "stream",
          "name": "stdout",
          "text": [
            "Digita un numero: 1\n",
            "Digita otro numero: 6\n",
            "Los numeros entre 1 y 6 son: \n",
            "2\n",
            "3\n",
            "4\n",
            "5\n"
          ]
        }
      ]
    },
    {
      "cell_type": "code",
      "source": [
        "##Escribe un programa para calcular cuántos días tomará que la colonia de una bacteria A supere o iguale a la colonia de una bacteria B,\n",
        "##basado en tasas de crecimiento del 3% y 1.5%, respectivamente. Supón que la colonia A comienza con 4 elementos y B con 10."
      ],
      "metadata": {
        "id": "Hp9UQ3mxNmDv"
      },
      "execution_count": null,
      "outputs": []
    },
    {
      "cell_type": "code",
      "source": [
        "contador = 1\n",
        "colonia_a = 4\n",
        "colonia_b = 10\n",
        "porcentaje_a = 0.03\n",
        "porcentaje_b = 0.015\n",
        "print(f'Los dias que tomara que la colonia A supere a la colonia B son: ')\n",
        "while colonia_a <= colonia_b:\n",
        "  colonia_a = colonia_a + (colonia_a * porcentaje_a)\n",
        "  colonia_b = colonia_b + (colonia_b * porcentaje_b)\n",
        "  contador = contador + 1\n",
        "print(contador)\n"
      ],
      "metadata": {
        "colab": {
          "base_uri": "https://localhost:8080/"
        },
        "id": "x35BgkRgNmMf",
        "outputId": "45a37fa3-c5a6-4078-fd83-aed6705f0323"
      },
      "execution_count": 23,
      "outputs": [
        {
          "output_type": "stream",
          "name": "stdout",
          "text": [
            "Los dias que tomara que la colonia A supere a la colonia B son: \n",
            "64\n"
          ]
        }
      ]
    },
    {
      "cell_type": "code",
      "source": [
        "##Para procesar una cantidad de 15 datos de evaluaciones de usuarios de un servicio de la empresa, necesitamos verificar si las calificaciones son válidas.\n",
        "##Por lo tanto, escribe un programa que recibirá calificaciones del 0 al 5 y verificará si son valores válidos.\n",
        "##Si se ingresa una calificación superior a 5 o inferior a 0, se repetirá hasta que el usuario ingrese un valor válido."
      ],
      "metadata": {
        "id": "pFCmhzBKNmTo"
      },
      "execution_count": null,
      "outputs": []
    },
    {
      "cell_type": "code",
      "source": [
        "contador = 1\n",
        "calificacion = int(input('Digita una calificacion: '))\n",
        "while calificacion > 5 or calificacion < 0:\n",
        "    contador = contador + 1\n",
        "    calificacion = int(input('Digita una calificacion: '))\n",
        "print(f'La calificacion {calificacion} es valida')"
      ],
      "metadata": {
        "colab": {
          "base_uri": "https://localhost:8080/"
        },
        "id": "UVYtn4h6NmZs",
        "outputId": "f90f7065-35ee-4452-fe67-26813cc19724"
      },
      "execution_count": 35,
      "outputs": [
        {
          "output_type": "stream",
          "name": "stdout",
          "text": [
            "Digita una calificacion: 1\n",
            "La calificacion 1 es valida\n"
          ]
        }
      ]
    },
    {
      "cell_type": "code",
      "source": [
        "##Desarrolla un programa que lea un conjunto indefinido de temperaturas en grados Celsius y calcule su promedio.\n",
        "##La lectura debe detenerse al ingresar el valor -273°C."
      ],
      "metadata": {
        "id": "fZrrqRBRNmd9"
      },
      "execution_count": null,
      "outputs": []
    },
    {
      "cell_type": "code",
      "source": [
        "print(\"Ingresa temperaturas en grados Celsius (ingresa -273 para terminar):\")\n",
        "\n",
        "suma = 0\n",
        "contador = 0\n",
        "\n",
        "try:\n",
        "    while True:\n",
        "        try:\n",
        "            temp = float(input(\"Temperatura: \"))\n",
        "        except ValueError:\n",
        "            print(\"Ingresa un número válido.\")\n",
        "            continue\n",
        "\n",
        "        if temp < -273:\n",
        "            print(\"Error: la temperatura no puede ser menor a -273°C.\")\n",
        "            continue\n",
        "\n",
        "        if temp == -273:\n",
        "            print(\"Fin de la lectura.\")\n",
        "            break\n",
        "\n",
        "        suma += temp\n",
        "        contador += 1\n",
        "\n",
        "        promedio = suma / contador\n",
        "        print(f\"Promedio actual: {promedio:.2f} °C\")\n",
        "except KeyboardInterrupt:\n",
        "    print(\"\\n Programa interrumpido por el usuario.\")\n",
        "\n"
      ],
      "metadata": {
        "colab": {
          "base_uri": "https://localhost:8080/"
        },
        "outputId": "cd043632-2115-42a2-f807-f142403eb2dd",
        "id": "nkjGYC-wb3Gj"
      },
      "execution_count": 72,
      "outputs": [
        {
          "output_type": "stream",
          "name": "stdout",
          "text": [
            "Ingresa temperaturas en grados Celsius (ingresa -273 para terminar):\n",
            "Temperatura: 200\n",
            "Promedio actual: 200.00 °C\n",
            "Temperatura: 700\n",
            "Promedio actual: 450.00 °C\n",
            "\n",
            " Programa interrumpido por el usuario.\n"
          ]
        }
      ]
    },
    {
      "cell_type": "code",
      "source": [
        "##Escribe un programa que calcule el factorial de un número entero proporcionado por el usuario.\n",
        "##Recuerda que el factorial de un número entero es el producto de ese número por todos sus antecesores hasta llegar al número 1.\n",
        "##Por ejemplo, el factorial de 5 es 5 x 4 x 3 x 2 x 1 = 120."
      ],
      "metadata": {
        "id": "SCnRHr0NNmmd"
      },
      "execution_count": null,
      "outputs": []
    },
    {
      "cell_type": "code",
      "source": [
        "\n",
        "numero = int(input('Ingresa un un numero entero del 1 al 10:'))\n",
        "factorial = 1\n",
        "for i in range(1, numero + 1):\n",
        "  factorial = factorial * i\n",
        "print(f'El factorial de {numero} es {factorial}')\n"
      ],
      "metadata": {
        "colab": {
          "base_uri": "https://localhost:8080/"
        },
        "id": "_GJRlKE6Nmql",
        "outputId": "dd53f9b2-1224-4b6e-c97d-f249a2559d38"
      },
      "execution_count": 52,
      "outputs": [
        {
          "output_type": "stream",
          "name": "stdout",
          "text": [
            "Ingresa un un numero entero del 1 al 10:4\n",
            "El factorial de 4 es 24\n"
          ]
        }
      ]
    },
    {
      "cell_type": "code",
      "source": [
        "##Escribe un programa que genere la tabla de multiplicar de un número entero del 1 al 10, según la elección del usuario.\n",
        "##Como ejemplo, para el número 2, la tabla de multiplicar debe mostrarse en el siguiente formato:"
      ],
      "metadata": {
        "id": "I0QkwuEENmuU"
      },
      "execution_count": null,
      "outputs": []
    },
    {
      "cell_type": "code",
      "source": [
        "***\n",
        "Tabla de multiplicar del 2:\n",
        "2 x 1 = 2\n",
        "2 x 2 = 4\n",
        "[...]\n",
        "2 x 10 = 20\n",
        "***"
      ],
      "metadata": {
        "id": "WbC1PymqNmyI"
      },
      "execution_count": null,
      "outputs": []
    },
    {
      "cell_type": "code",
      "source": [
        "numero = int(input('Ingresa un un numero entero del 1 al 10:'))\n",
        "if numero < 1 or numero > 10:\n",
        "        print(\"Error: el número debe estar entre 1 y 10.\")\n",
        "else:\n",
        "        print(f\"\\n Tabla de multiplicar del {numero}:\\n\")\n",
        "        for i in range(1, 11):\n",
        "            resultado = numero * i\n",
        "            print(f\"{numero} x {i} = {resultado}\")\n"
      ],
      "metadata": {
        "colab": {
          "base_uri": "https://localhost:8080/"
        },
        "id": "rMMEUORTflnI",
        "outputId": "ff6eda2d-6737-4d03-9177-321f71eb7b6c"
      },
      "execution_count": 62,
      "outputs": [
        {
          "output_type": "stream",
          "name": "stdout",
          "text": [
            "Ingresa un un numero entero del 1 al 10:3\n",
            "\n",
            " Tabla de multiplicar del 3:\n",
            "\n",
            "3 x 1 = 3\n",
            "3 x 2 = 6\n",
            "3 x 3 = 9\n",
            "3 x 4 = 12\n",
            "3 x 5 = 15\n",
            "3 x 6 = 18\n",
            "3 x 7 = 21\n",
            "3 x 8 = 24\n",
            "3 x 9 = 27\n",
            "3 x 10 = 30\n"
          ]
        }
      ]
    },
    {
      "cell_type": "code",
      "source": [
        "##Los números primos tienen diversas aplicaciones en Ciencia de Datos, como en criptografía y seguridad.\n",
        "##Un número primo es aquel que es divisible solo por sí mismo y por 1.\n",
        "##Por lo tanto, crea un programa que solicite un número entero y determine si es un número primo o no."
      ],
      "metadata": {
        "id": "2VYr8MhHNm1E"
      },
      "execution_count": null,
      "outputs": []
    },
    {
      "cell_type": "code",
      "source": [
        "numero = int(input('Ingresa un un numero entero:'))\n",
        "\n",
        "if numero <= 1:\n",
        "    print(\"No es un número primo.\")\n",
        "else:\n",
        "    es_primo = True\n",
        "\n",
        "    for i in range(2, numero):\n",
        "        if numero % i == 0:\n",
        "            es_primo = False\n",
        "            break\n",
        "\n",
        "    if es_primo:\n",
        "        print(\"Es un número primo.\")\n",
        "    else:\n",
        "        print(\"No es un número primo.\")\n"
      ],
      "metadata": {
        "colab": {
          "base_uri": "https://localhost:8080/"
        },
        "id": "CLIProw5O8Cj",
        "outputId": "c35df4a9-de6d-45ea-f278-301204a752f7"
      },
      "execution_count": 69,
      "outputs": [
        {
          "output_type": "stream",
          "name": "stdout",
          "text": [
            "Ingresa un un numero entero:3\n",
            "Es un número primo.\n"
          ]
        }
      ]
    },
    {
      "cell_type": "code",
      "source": [
        "##Vamos a comprender la distribución de edades de los pensionistas de una empresa de seguros.\n",
        "##Escribe un programa que lea las edades de una cantidad no informada de clientes\n",
        "##y muestre la distribución en los intervalos [0-25], [26-50], [51-75] y [76-100].\n",
        "##La entrada de datos se detendrá al ingresar un número negativo."
      ],
      "metadata": {
        "id": "DPs5zpE_O8Jp"
      },
      "execution_count": null,
      "outputs": []
    },
    {
      "cell_type": "code",
      "source": [
        "edad = int(input('Ingresa una edad:'))\n",
        "\n",
        "rango_0_25 = 0\n",
        "rango_26_50 = 0\n",
        "rango_51_75 = 0\n",
        "rango_76_100 = 0\n",
        "\n",
        "while True:\n",
        "    edad = int(input(\"Edad: \"))\n",
        "\n",
        "    if edad < 0:\n",
        "        break\n",
        "\n",
        "    if edad <= 25:\n",
        "        rango_0_25 += 1\n",
        "    elif edad <= 50:\n",
        "        rango_26_50 += 1\n",
        "    elif edad <= 75:\n",
        "        rango_51_75 += 1\n",
        "    elif edad <= 100:\n",
        "        rango_76_100 += 1\n",
        "    else:\n",
        "        continue\n",
        "\n",
        "print(\"\\nDistribución de edades:\")\n",
        "print(\"[0-25]:\", rango_0_25, \"personas\")\n",
        "print(\"[26-50]:\", rango_26_50, \"personas\")\n",
        "print(\"[51-75]:\", rango_51_75, \"personas\")\n",
        "print(\"[76-100]:\", rango_76_100, \"personas\")\n",
        "\n"
      ],
      "metadata": {
        "colab": {
          "base_uri": "https://localhost:8080/"
        },
        "id": "7Ju5XjMFO8OQ",
        "outputId": "13a6568a-713b-4b86-fd36-08f51accf214"
      },
      "execution_count": 1,
      "outputs": [
        {
          "output_type": "stream",
          "name": "stdout",
          "text": [
            "Ingresa una edad:20\n",
            "Edad: 75\n",
            "Edad: 34\n",
            "Edad: -1\n",
            "\n",
            "Distribución de edades:\n",
            "[0-25]: 0 personas\n",
            "[26-50]: 1 personas\n",
            "[51-75]: 1 personas\n",
            "[76-100]: 0 personas\n"
          ]
        }
      ]
    },
    {
      "cell_type": "code",
      "source": [
        "##En una elección para la gerencia de una empresa con 20 empleados, hay cuatro candidatos.\n",
        "##Escribe un programa que calcule al ganador de la elección. La votación se realizó de la siguiente manera:\n",
        "\n",
        "##Cada empleado votó por uno de los cuatro candidatos (representados por los números 1, 2, 3 y 4).\n",
        "\n",
        "##También se contaron los votos nulos (representados por el número 5) y los votos en blanco (representados por el número 6).\n",
        "\n",
        "##Al final de la votación, el programa debe mostrar el número total de votos para cada candidato, los votos nulos y los votos en blanco.\n",
        "##Además, debe calcular y mostrar el porcentaje de votos nulos con respecto al total de votos\n",
        "##y el porcentaje de votos en blanco con respecto al total de votos."
      ],
      "metadata": {
        "id": "_FsBGUmaO8RL"
      },
      "execution_count": 7,
      "outputs": []
    },
    {
      "cell_type": "code",
      "source": [
        "\n",
        "voto_1 = 0\n",
        "voto_2 = 0\n",
        "voto_3 = 0\n",
        "voto_4 = 0\n",
        "voto_nulo_5 = 0\n",
        "voto_blanco_6 = 0\n",
        "\n",
        "Total_votos = 0\n",
        "while Total_votos < 20:\n",
        "    voto = int(input(f\"Voto #{Total_votos + 1}: \"))\n",
        "\n",
        "    if voto == 1:\n",
        "        voto_1 += 1\n",
        "    elif voto == 2:\n",
        "        voto_2 += 1\n",
        "    elif voto == 3:\n",
        "        voto_3 += 1\n",
        "    elif voto == 4:\n",
        "        voto_4 += 1\n",
        "    elif voto == 5:\n",
        "        voto_nulo_5 += 1\n",
        "    elif voto == 6:\n",
        "        voto_blanco_6 += 1\n",
        "    else:\n",
        "        print(\"Voto no válido.\")\n",
        "        continue\n",
        "\n",
        "    Total_votos += 1\n",
        "\n",
        "    porc_nulo = (voto_nulo_5 / Total_votos) * 100\n",
        "    porc_blanco = (voto_blanco_6 / Total_votos) * 100\n",
        "\n",
        "print(\"\\nvotos:\")\n",
        "print(\"[voto_1]:\", voto_1, \"votos\")\n",
        "print(\"[voto_2]:\", voto_2, \"votos\")\n",
        "print(\"[voto_3]:\", voto_3, \"votos\")\n",
        "print(\"[voto_4]:\", voto_4, \"votos\")\n",
        "print(\"[voto_nulo_5]:\", voto_nulo_5, \"votos\")\n",
        "print(\"[voto_blanco_6]:\", voto_blanco_6, \"votos\")\n",
        "print(f\"Porcentaje de votos nulos: {porc_nulo:.2f}%\")\n",
        "print(f\"Porcentaje de votos en blanco: {porc_blanco:.2f}%\")"
      ],
      "metadata": {
        "colab": {
          "base_uri": "https://localhost:8080/"
        },
        "id": "7vIu4W32O8Tq",
        "outputId": "d56f72aa-1e92-4fcc-f557-5577b35a28e9"
      },
      "execution_count": 21,
      "outputs": [
        {
          "output_type": "stream",
          "name": "stdout",
          "text": [
            "Voto #1: 1\n",
            "Voto #2: 2\n",
            "Voto #3: 3\n",
            "Voto #4: 4\n",
            "Voto #5: 5\n",
            "Voto #6: 6\n",
            "Voto #7: 1\n",
            "Voto #8: 2\n",
            "Voto #9: 3\n",
            "Voto #10: 4\n",
            "Voto #11: 5\n",
            "Voto #12: 6\n",
            "Voto #13: 1\n",
            "Voto #14: 2\n",
            "Voto #15: 3\n",
            "Voto #16: 4\n",
            "Voto #17: 5\n",
            "Voto #18: 6\n",
            "Voto #19: 1\n",
            "Voto #20: 2\n",
            "\n",
            "votos:\n",
            "[voto_1]: 4 votos\n",
            "[voto_2]: 4 votos\n",
            "[voto_3]: 3 votos\n",
            "[voto_4]: 3 votos\n",
            "[voto_nulo_5]: 3 votos\n",
            "[voto_blanco_6]: 3 votos\n",
            "Porcentaje de votos nulos: 15.00%\n",
            "Porcentaje de votos en blanco: 15.00%\n"
          ]
        }
      ]
    }
  ]
}